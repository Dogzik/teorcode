{
 "cells": [
  {
   "cell_type": "code",
   "execution_count": 11,
   "metadata": {},
   "outputs": [],
   "source": [
    "import scipy.special as sc\n",
    "import numpy as np\n",
    "import math\n",
    "import datetime\n",
    "from tqdm import tqdm_notebook as tqdm\n",
    "import pandas as pd"
   ]
  },
  {
   "cell_type": "code",
   "execution_count": 2,
   "metadata": {},
   "outputs": [],
   "source": [
    "def comb(n, k):\n",
    "    return sc.comb(n, k, exact=True)\n",
    "\n",
    "def get_hilbert_border(n, k):\n",
    "    if (n == k):\n",
    "        return 1\n",
    "    prev_prev_d = 0\n",
    "    cur_sum = comb(n - 1, prev_prev_d)\n",
    "    while cur_sum + comb(n - 1, prev_prev_d + 1) < 2 ** (n - k):\n",
    "        cur_sum += comb(n - 1, prev_prev_d + 1)\n",
    "        prev_prev_d += 1\n",
    "    return prev_prev_d + 2"
   ]
  },
  {
   "cell_type": "code",
   "execution_count": 3,
   "metadata": {},
   "outputs": [],
   "source": [
    "def get_all_vectors(sz):\n",
    "    def add_elem(vecs, e):\n",
    "        return list(map(lambda vec: np.append(vec, e), vecs))\n",
    "            \n",
    "    \n",
    "    res = [np.asarray([], dtype=int)]\n",
    "    for i in range(sz):\n",
    "        res = add_elem(res, 0) + add_elem(res, 1)\n",
    "    return list(map(lambda x: np.ndarray.flatten(x), res))\n",
    "\n",
    "def any_from(s):\n",
    "    for x in s:\n",
    "        return x"
   ]
  },
  {
   "cell_type": "code",
   "execution_count": 4,
   "metadata": {},
   "outputs": [],
   "source": [
    "# Общая идея взята из доказательсва соотвествующей границы\n",
    "# Берём любой доступный вектор(изначально все кроме нулевого)\n",
    "# Далее поддерживаем линейный комбинации длины от 1 по d - 2,\n",
    "# которые будем удалять из множества доступных\n",
    "def build_hilbert(n, k):\n",
    "    r = n - k\n",
    "    d = get_hilbert_border(n, k)\n",
    "    if (d < 3):\n",
    "        raise NameError(\"d is less than 3\")\n",
    "    possible_vectors = set(map(lambda x: tuple(x), get_all_vectors(r)))\n",
    "    possible_vectors.discard(tuple(np.zeros(r, dtype=int)))\n",
    "    ans = []\n",
    "    # Храним для каждой длины линейной комбинации все такие комбинации из уже нобранных векторов\n",
    "    combs = [[] for _ in range(d - 1)]\n",
    "    # Хак чтобы автоматически добавлять новый вектор в combs[1]\n",
    "    combs[0].append(np.zeros(r, dtype=int))\n",
    "    for i in range(n - 1):\n",
    "        new_colum = np.array(any_from(possible_vectors))\n",
    "        ans.append(new_colum)\n",
    "        max_columns = min(d - 3, i)\n",
    "        # Что мы добавим к соотв ячейкам массива comb\n",
    "        additions = [[] for _ in range(max_columns + 2)]\n",
    "        # Перебераем все комбинации от 0 до max_colimns векторов без нового вектора,\n",
    "        # добавляя данный вектор получая новую комбинацию длины на 1 больше.\n",
    "        # Таким образм мы рассмотрим лишь все новые комбинации и ничего лишнего\n",
    "        for j in range(0, max_columns + 1):\n",
    "            for vec in combs[j]:\n",
    "                new_vec = new_colum ^ vec\n",
    "                additions[j + 1].append(new_vec)\n",
    "                possible_vectors.discard(tuple(new_vec))\n",
    "        for j in range(1, max_columns + 2):\n",
    "            combs[j].extend(additions[j])\n",
    "    ans.append(np.array(any_from(possible_vectors)))\n",
    "    return np.array(ans).T, d"
   ]
  },
  {
   "cell_type": "code",
   "execution_count": 17,
   "metadata": {},
   "outputs": [
    {
     "data": {
      "text/plain": [
       "(array([[0, 0, 1, 0, 1, 0, 1, 1, 1, 0, 0, 0, 0, 0],\n",
       "        [1, 1, 1, 0, 0, 1, 0, 0, 0, 1, 0, 1, 0, 1],\n",
       "        [0, 1, 0, 1, 0, 1, 0, 0, 1, 1, 1, 1, 1, 1],\n",
       "        [1, 1, 0, 0, 1, 0, 0, 1, 1, 1, 0, 0, 1, 1],\n",
       "        [1, 0, 1, 1, 1, 0, 0, 0, 1, 1, 0, 1, 0, 0],\n",
       "        [0, 1, 0, 0, 1, 0, 0, 1, 0, 1, 1, 1, 0, 0]]), 3)"
      ]
     },
     "execution_count": 17,
     "metadata": {},
     "output_type": "execute_result"
    }
   ],
   "source": [
    "build_hilbert(14, 8)"
   ]
  },
  {
   "cell_type": "code",
   "execution_count": 8,
   "metadata": {},
   "outputs": [],
   "source": [
    "MAXN = 25\n",
    "results = np.full((MAXN, MAXN), -1)"
   ]
  },
  {
   "cell_type": "code",
   "execution_count": 9,
   "metadata": {
    "scrolled": false
   },
   "outputs": [
    {
     "data": {
      "application/vnd.jupyter.widget-view+json": {
       "model_id": "7f43c8a283f94dada0b2899a28f1caf1",
       "version_major": 2,
       "version_minor": 0
      },
      "text/plain": [
       "HBox(children=(IntProgress(value=0, max=210), HTML(value='')))"
      ]
     },
     "metadata": {},
     "output_type": "display_data"
    },
    {
     "name": "stdout",
     "output_type": "stream",
     "text": [
      "\n"
     ]
    }
   ],
   "source": [
    "params = [(n, k) for n in range(5, MAXN) for k in range(1, n - 3)]\n",
    "for n, k in tqdm(params):\n",
    "    try:\n",
    "        start_time = datetime.datetime.now()\n",
    "        H, d = build_hilbert(n, k)\n",
    "        timedelta = (datetime.datetime.now() - start_time).seconds\n",
    "#             print(n, k, timedelta)\n",
    "        results[n][k] = timedelta\n",
    "    except:\n",
    "        results[n][k] = timedelta"
   ]
  },
  {
   "cell_type": "code",
   "execution_count": 16,
   "metadata": {},
   "outputs": [
    {
     "name": "stdout",
     "output_type": "stream",
     "text": [
      "    0    1   2   3   4   5   6   7   8   9   ...  12  13  14  15  16  17  18  \\\n",
      "0   -1   -1  -1  -1  -1  -1  -1  -1  -1  -1  ...  -1  -1  -1  -1  -1  -1  -1   \n",
      "1   -1   -1  -1  -1  -1  -1  -1  -1  -1  -1  ...  -1  -1  -1  -1  -1  -1  -1   \n",
      "2   -1   -1  -1  -1  -1  -1  -1  -1  -1  -1  ...  -1  -1  -1  -1  -1  -1  -1   \n",
      "3   -1   -1  -1  -1  -1  -1  -1  -1  -1  -1  ...  -1  -1  -1  -1  -1  -1  -1   \n",
      "4   -1   -1  -1  -1  -1  -1  -1  -1  -1  -1  ...  -1  -1  -1  -1  -1  -1  -1   \n",
      "5   -1    0  -1  -1  -1  -1  -1  -1  -1  -1  ...  -1  -1  -1  -1  -1  -1  -1   \n",
      "6   -1    0   0  -1  -1  -1  -1  -1  -1  -1  ...  -1  -1  -1  -1  -1  -1  -1   \n",
      "7   -1    0   0   0  -1  -1  -1  -1  -1  -1  ...  -1  -1  -1  -1  -1  -1  -1   \n",
      "8   -1    0   0   0   0  -1  -1  -1  -1  -1  ...  -1  -1  -1  -1  -1  -1  -1   \n",
      "9   -1    0   0   0   0   0  -1  -1  -1  -1  ...  -1  -1  -1  -1  -1  -1  -1   \n",
      "10  -1    0   0   0   0   0   0  -1  -1  -1  ...  -1  -1  -1  -1  -1  -1  -1   \n",
      "11  -1    0   0   0   0   0   0   0  -1  -1  ...  -1  -1  -1  -1  -1  -1  -1   \n",
      "12  -1    0   0   0   0   0   0   0   0  -1  ...  -1  -1  -1  -1  -1  -1  -1   \n",
      "13  -1    0   0   0   0   0   0   0   0   0  ...  -1  -1  -1  -1  -1  -1  -1   \n",
      "14  -1    0   0   0   0   0   0   0   0   0  ...  -1  -1  -1  -1  -1  -1  -1   \n",
      "15  -1    0   0   0   0   0   0   0   0   0  ...  -1  -1  -1  -1  -1  -1  -1   \n",
      "16  -1    0   0   0   0   0   0   0   0   0  ...   0  -1  -1  -1  -1  -1  -1   \n",
      "17  -1    0   0   0   0   0   0   0   0   0  ...   0   0  -1  -1  -1  -1  -1   \n",
      "18  -1    1   0   0   0   0   0   0   0   0  ...   0   0   0  -1  -1  -1  -1   \n",
      "19  -1    4   1   0   0   0   0   0   0   0  ...   0   0   0   0  -1  -1  -1   \n",
      "20  -1    8   3   1   0   0   0   0   0   0  ...   0   0   0   0   0  -1  -1   \n",
      "21  -1   17   8   3   1   0   0   0   0   0  ...   0   0   0   0   0   0  -1   \n",
      "22  -1   38  17   8   3   1   0   0   0   0  ...   0   0   0   0   0   0   0   \n",
      "23  -1   78  38  17   8   3   2   1   0   0  ...   0   0   0   0   0   0   0   \n",
      "24  -1  180  75  38  18   8   3   1   0   0  ...   0   0   0   0   0   0   0   \n",
      "\n",
      "    19  20  21  \n",
      "0   -1  -1  -1  \n",
      "1   -1  -1  -1  \n",
      "2   -1  -1  -1  \n",
      "3   -1  -1  -1  \n",
      "4   -1  -1  -1  \n",
      "5   -1  -1  -1  \n",
      "6   -1  -1  -1  \n",
      "7   -1  -1  -1  \n",
      "8   -1  -1  -1  \n",
      "9   -1  -1  -1  \n",
      "10  -1  -1  -1  \n",
      "11  -1  -1  -1  \n",
      "12  -1  -1  -1  \n",
      "13  -1  -1  -1  \n",
      "14  -1  -1  -1  \n",
      "15  -1  -1  -1  \n",
      "16  -1  -1  -1  \n",
      "17  -1  -1  -1  \n",
      "18  -1  -1  -1  \n",
      "19  -1  -1  -1  \n",
      "20  -1  -1  -1  \n",
      "21  -1  -1  -1  \n",
      "22  -1  -1  -1  \n",
      "23   0  -1  -1  \n",
      "24   0   0  -1  \n",
      "\n",
      "[25 rows x 22 columns]\n"
     ]
    }
   ],
   "source": [
    "print(pd.DataFrame(results[:, :MAXN - 3]))"
   ]
  },
  {
   "cell_type": "markdown",
   "metadata": {},
   "source": [
    "Как видно в переделах одного $n$ время работы падает с ростом $k$. Аналогично же при фиксированном $k$ с ростом $n$ растёт время.\n",
    "\n",
    "Это можно объяснить оценив ассимптотику работы. Заметим, что основную сложность алгоритма состовляет пресчёт массива $comb$. На после шага с номерером $i$(нумерация с 1) каждая ячейка его содержит все возможные $C_i^t$ комбинаций, где $t = min(d - 2, i)$. При этом каждый последующий шаг \"трогает\" все вектора с предыдущего. Пересчёт же каждого происходит за $r = n - k$\n",
    "\n",
    "В таком случаем можно оценить время работы как $\\sum\\limits_{i = 1}^{n - 1} \\sum\\limits_{j = 0}^{\\min (d - 2, i - 1)} C_{i - 1}^j \\cdot r$\n",
    "\n",
    "Т.к. с ростом $k$ уменьшается $d$ это объясняет ускорение алгоритма, ибо от уменьшения $r$ данная сумма уменьшается не так сильно.\n",
    "\n",
    "Отсюда можно сделать вывод, что для $k$ близких к $n$ код отрабатывает за очень даже разумное время, однако при скорости кода менее $\\dfrac{1}{2}$ при $n \\geq $ уже придётся ждать несоклько минут."
   ]
  },
  {
   "cell_type": "code",
   "execution_count": null,
   "metadata": {},
   "outputs": [],
   "source": []
  },
  {
   "cell_type": "code",
   "execution_count": null,
   "metadata": {},
   "outputs": [],
   "source": []
  }
 ],
 "metadata": {
  "kernelspec": {
   "display_name": "Python 3",
   "language": "python",
   "name": "python3"
  },
  "language_info": {
   "codemirror_mode": {
    "name": "ipython",
    "version": 3
   },
   "file_extension": ".py",
   "mimetype": "text/x-python",
   "name": "python",
   "nbconvert_exporter": "python",
   "pygments_lexer": "ipython3",
   "version": "3.7.3"
  }
 },
 "nbformat": 4,
 "nbformat_minor": 2
}
